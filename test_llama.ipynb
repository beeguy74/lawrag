{
 "cells": [
  {
   "cell_type": "code",
   "execution_count": 69,
   "metadata": {},
   "outputs": [
    {
     "data": {
      "text/plain": [
       "True"
      ]
     },
     "execution_count": 69,
     "metadata": {},
     "output_type": "execute_result"
    }
   ],
   "source": [
    "from dotenv import load_dotenv\n",
    "from llama_index.llms.openrouter import OpenRouter\n",
    "from llama_index.core.llms import ChatMessage\n",
    "from os import getenv\n",
    "\n",
    "load_dotenv()"
   ]
  },
  {
   "cell_type": "code",
   "execution_count": 70,
   "metadata": {},
   "outputs": [],
   "source": [
    "llm = OpenRouter(\n",
    "    max_tokens=256,\n",
    "    context_window=4096,\n",
    "    model=\"cohere/command-r\"\n",
    ")"
   ]
  },
  {
   "cell_type": "code",
   "execution_count": 60,
   "metadata": {},
   "outputs": [
    {
     "name": "stdout",
     "output_type": "stream",
     "text": [
      "assistant: What do you call a factory that makes distinctly average products?\n",
      "\n",
      "*A satisfactory.*\n"
     ]
    }
   ],
   "source": [
    "message = ChatMessage(role=\"user\", content=\"Tell me a joke\")\n",
    "resp = llm.chat([message])\n",
    "print(resp)"
   ]
  },
  {
   "cell_type": "code",
   "execution_count": 71,
   "metadata": {},
   "outputs": [],
   "source": [
    "from llama_index.core import VectorStoreIndex, SimpleDirectoryReader\n",
    "\n"
   ]
  },
  {
   "cell_type": "code",
   "execution_count": 72,
   "metadata": {},
   "outputs": [],
   "source": [
    "documents = SimpleDirectoryReader(\"poems_data\").load_data()"
   ]
  },
  {
   "cell_type": "markdown",
   "metadata": {},
   "source": [
    "Trying out Cohere embeddings"
   ]
  },
  {
   "cell_type": "code",
   "execution_count": 73,
   "metadata": {},
   "outputs": [],
   "source": [
    "from llama_index.embeddings.cohere import CohereEmbedding\n",
    "\n",
    "embed_model = CohereEmbedding(\n",
    "    api_key=getenv(\"COHERE_API_KEY\"),\n",
    "    model_name=\"embed-multilingual-light-v3.0\",\n",
    "    input_type=\"search_query\",\n",
    ")"
   ]
  },
  {
   "cell_type": "code",
   "execution_count": 74,
   "metadata": {},
   "outputs": [],
   "source": [
    "from llama_index.llms.cohere import Cohere\n",
    "\n",
    "llm_original = Cohere(model=\"command-r\", api_key=getenv(\"COHERE_API_KEY\"))"
   ]
  },
  {
   "cell_type": "code",
   "execution_count": 40,
   "metadata": {},
   "outputs": [
    {
     "data": {
      "text/plain": [
       "ChatResponse(message=ChatMessage(role=<MessageRole.ASSISTANT: 'assistant'>, content=\"Je suis heureux de pouvoir vous aider! Mais, s'il vous plaît, écrivez une blague et je suis heureux de le contrer.\\n\\n(In English, please) \\n\\nLooking forward to trading jokes with you!\", additional_kwargs={}), raw={'text': \"Je suis heureux de pouvoir vous aider! Mais, s'il vous plaît, écrivez une blague et je suis heureux de le contrer.\\n\\n(In English, please) \\n\\nLooking forward to trading jokes with you!\", 'generation_id': '01246f4b-e584-4b90-9f88-a3b1bef31356', 'citations': None, 'documents': None, 'is_search_required': None, 'search_queries': None, 'search_results': None, 'finish_reason': 'COMPLETE', 'tool_calls': None, 'chat_history': [Message_User(message='Rancontrez-moi une blague', tool_calls=None, role='USER'), Message_Chatbot(message=\"Je suis heureux de pouvoir vous aider! Mais, s'il vous plaît, écrivez une blague et je suis heureux de le contrer.\\n\\n(In English, please) \\n\\nLooking forward to trading jokes with you!\", tool_calls=None, role='CHATBOT')], 'prompt': None, 'meta': ApiMeta(api_version=ApiMetaApiVersion(version='1', is_deprecated=None, is_experimental=None), billed_units=ApiMetaBilledUnits(input_tokens=9, output_tokens=61, search_units=None, classifications=None), tokens=ApiMetaTokens(input_tokens=71, output_tokens=62), warnings=None), 'response_id': 'b26ed95a-c0ff-441f-af15-384a27030a55'}, delta=None, logprobs=None, additional_kwargs={})"
      ]
     },
     "execution_count": 40,
     "metadata": {},
     "output_type": "execute_result"
    }
   ],
   "source": [
    "llm.chat([ChatMessage(role=\"user\", content=\"Rancontrez-moi une blague\")])"
   ]
  },
  {
   "cell_type": "code",
   "execution_count": 75,
   "metadata": {},
   "outputs": [],
   "source": [
    "from llama_index.core import Settings\n",
    "\n",
    "Settings.llm=llm\n",
    "Settings.embed_model=embed_model"
   ]
  },
  {
   "cell_type": "code",
   "execution_count": null,
   "metadata": {},
   "outputs": [],
   "source": []
  },
  {
   "cell_type": "code",
   "execution_count": 76,
   "metadata": {},
   "outputs": [],
   "source": [
    "index = VectorStoreIndex.from_documents(\n",
    "    documents=documents,\n",
    ")"
   ]
  },
  {
   "cell_type": "code",
   "execution_count": 77,
   "metadata": {},
   "outputs": [],
   "source": [
    "from llama_index.postprocessor.cohere_rerank import CohereRerank\n",
    "\n",
    "cohere_rerank = CohereRerank()"
   ]
  },
  {
   "cell_type": "code",
   "execution_count": 78,
   "metadata": {},
   "outputs": [],
   "source": [
    "query_engine = index.as_query_engine(\n",
    "    postprocessors=[cohere_rerank],\n",
    ")"
   ]
  },
  {
   "cell_type": "code",
   "execution_count": 90,
   "metadata": {},
   "outputs": [],
   "source": [
    "response = query_engine.query(\"A qui semble le poete?\")"
   ]
  },
  {
   "cell_type": "code",
   "execution_count": 91,
   "metadata": {},
   "outputs": [
    {
     "data": {
      "text/plain": [
       "Response(response='Le poète semble être comparable au prince des nuées.', source_nodes=[NodeWithScore(node=TextNode(id_='e12f61eb-7210-4d9a-9b1d-6041fcf74e70', embedding=None, metadata={'file_path': '/home/tphung/projects/lawrag/data/albatros.txt', 'file_name': 'albatros.txt', 'file_type': 'text/plain', 'file_size': 762, 'creation_date': '2024-08-05', 'last_modified_date': '2024-08-05'}, excluded_embed_metadata_keys=['file_name', 'file_type', 'file_size', 'creation_date', 'last_modified_date', 'last_accessed_date'], excluded_llm_metadata_keys=['file_name', 'file_type', 'file_size', 'creation_date', 'last_modified_date', 'last_accessed_date'], relationships={<NodeRelationship.SOURCE: '1'>: RelatedNodeInfo(node_id='cd24558d-1689-4b77-9e6f-4a679a9e39ae', node_type=<ObjectType.DOCUMENT: '4'>, metadata={'file_path': '/home/tphung/projects/lawrag/data/albatros.txt', 'file_name': 'albatros.txt', 'file_type': 'text/plain', 'file_size': 762, 'creation_date': '2024-08-05', 'last_modified_date': '2024-08-05'}, hash='851336e237a01926e2bb104f3b0cff1e8c4a9ff67f7c80f1d55bc240e48d9a37')}, text='Souvent, pour s’amuser, les hommes d’équipage\\nPrennent des albatros, vastes oiseaux des mers,\\nQui suivent, indolents compagnons de voyage,\\nLe navire glissant sur les gouffres amers.\\n\\nA peine les ont-ils déposés sur les planches,\\nQue ces rois de l’azur, maladroits et honteux,\\nLaissent piteusement leurs grandes ailes blanches\\nComme des avirons traîner à côté d’eux.\\n\\nCe voyageur ailé, comme il est gauche et veule !\\nLui, naguère si beau, qu’il est comique et laid !\\nL’un agace son bec avec un brûle-gueule,\\nL’autre mime, en boitant, l’infirme qui volait !\\n\\nLe Poète est semblable au prince des nuées\\nQui hante la tempête et se rit de l’archer ;\\nExilé sur le sol au milieu des huées,\\nSes ailes de géant l’empêchent de marcher.', mimetype='text/plain', start_char_idx=0, end_char_idx=725, text_template='{metadata_str}\\n\\n{content}', metadata_template='{key}: {value}', metadata_seperator='\\n'), score=0.44930240548534217), NodeWithScore(node=TextNode(id_='cf1c793c-ad6f-43b7-9a61-88c232a708dd', embedding=None, metadata={'file_path': '/home/tphung/projects/lawrag/data/demain.txt', 'file_name': 'demain.txt', 'file_type': 'text/plain', 'file_size': 653, 'creation_date': '2024-08-05', 'last_modified_date': '2024-08-05'}, excluded_embed_metadata_keys=['file_name', 'file_type', 'file_size', 'creation_date', 'last_modified_date', 'last_accessed_date'], excluded_llm_metadata_keys=['file_name', 'file_type', 'file_size', 'creation_date', 'last_modified_date', 'last_accessed_date'], relationships={<NodeRelationship.SOURCE: '1'>: RelatedNodeInfo(node_id='321260a1-a6b8-4166-91b2-7664efd51a79', node_type=<ObjectType.DOCUMENT: '4'>, metadata={'file_path': '/home/tphung/projects/lawrag/data/demain.txt', 'file_name': 'demain.txt', 'file_type': 'text/plain', 'file_size': 653, 'creation_date': '2024-08-05', 'last_modified_date': '2024-08-05'}, hash='2b847eb5e414ff6c1661666062e5f9bda103eac98836381eec2dcb7c0fae69ad')}, text='Demain, dès l’aube, à l’heure où blanchit la campagne,\\n    Je partirai. Vois-tu, je sais que tu m’attends.\\n    J’irai par la forêt, j’irai par la montagne.\\n    Je ne puis demeurer loin de toi plus longtemps.\\n\\n    Je marcherai les yeux fixés sur mes pensées,\\n    Sans rien voir au dehors, sans entendre aucun bruit,\\n    Seul, inconnu, le dos courbé, les mains croisées,\\n    Triste, et le jour pour moi sera comme la nuit.\\n\\n    Je ne regarderai ni l’or du soir qui tombe,\\n    Ni les voiles au loin descendant vers Harfleur,\\n    Et quand j’arriverai, je mettrai sur ta tombe\\n    Un bouquet de houx vert et de bruyère en fleur.', mimetype='text/plain', start_char_idx=6, end_char_idx=629, text_template='{metadata_str}\\n\\n{content}', metadata_template='{key}: {value}', metadata_seperator='\\n'), score=0.3538194072243398)], metadata={'e12f61eb-7210-4d9a-9b1d-6041fcf74e70': {'file_path': '/home/tphung/projects/lawrag/data/albatros.txt', 'file_name': 'albatros.txt', 'file_type': 'text/plain', 'file_size': 762, 'creation_date': '2024-08-05', 'last_modified_date': '2024-08-05'}, 'cf1c793c-ad6f-43b7-9a61-88c232a708dd': {'file_path': '/home/tphung/projects/lawrag/data/demain.txt', 'file_name': 'demain.txt', 'file_type': 'text/plain', 'file_size': 653, 'creation_date': '2024-08-05', 'last_modified_date': '2024-08-05'}})"
      ]
     },
     "execution_count": 91,
     "metadata": {},
     "output_type": "execute_result"
    }
   ],
   "source": [
    "response"
   ]
  },
  {
   "cell_type": "markdown",
   "metadata": {},
   "source": [
    "example of Vectore storage persisting"
   ]
  },
  {
   "cell_type": "code",
   "execution_count": 101,
   "metadata": {},
   "outputs": [],
   "source": [
    "index.storage_context.persist(persist_dir=\"./poems_storage\") # save the index to ./storage directory"
   ]
  },
  {
   "cell_type": "code",
   "execution_count": 102,
   "metadata": {},
   "outputs": [],
   "source": [
    "from llama_index.core import load_index_from_storage, StorageContext\n",
    "from llama_index.core.storage.docstore import SimpleDocumentStore\n",
    "from llama_index.core.storage.index_store import SimpleIndexStore\n",
    "from llama_index.core.vector_stores import SimpleVectorStore\n",
    "\n",
    "storage_context = StorageContext.from_defaults(\n",
    "    persist_dir=\"poems_storage\"\n",
    "    # theese arguments do not work but they were in guide\n",
    "    # docstore=SimpleDocumentStore.from_persist_dir(persist_dir=\"storage\"),\n",
    "    # index_store=SimpleIndexStore.from_persist_dir(persist_dir=\"storage\"),\n",
    "\n",
    "    # vector_store=SimpleVectorStore.from_persist_dir(persist_dir=\"storage\"),\n",
    ")\n",
    "persistent_index = load_index_from_storage(storage_context=storage_context)"
   ]
  },
  {
   "cell_type": "code",
   "execution_count": 103,
   "metadata": {},
   "outputs": [],
   "source": [
    "persistent_engine = persistent_index.as_query_engine(\n",
    "    postprocessors=[cohere_rerank],\n",
    ")"
   ]
  },
  {
   "cell_type": "code",
   "execution_count": 104,
   "metadata": {},
   "outputs": [
    {
     "data": {
      "text/plain": [
       "Response(response='Le poète semble être comparable au prince des nuées.', source_nodes=[NodeWithScore(node=TextNode(id_='e12f61eb-7210-4d9a-9b1d-6041fcf74e70', embedding=None, metadata={'file_path': '/home/tphung/projects/lawrag/data/albatros.txt', 'file_name': 'albatros.txt', 'file_type': 'text/plain', 'file_size': 762, 'creation_date': '2024-08-05', 'last_modified_date': '2024-08-05'}, excluded_embed_metadata_keys=['file_name', 'file_type', 'file_size', 'creation_date', 'last_modified_date', 'last_accessed_date'], excluded_llm_metadata_keys=['file_name', 'file_type', 'file_size', 'creation_date', 'last_modified_date', 'last_accessed_date'], relationships={<NodeRelationship.SOURCE: '1'>: RelatedNodeInfo(node_id='cd24558d-1689-4b77-9e6f-4a679a9e39ae', node_type=<ObjectType.DOCUMENT: '4'>, metadata={'file_path': '/home/tphung/projects/lawrag/data/albatros.txt', 'file_name': 'albatros.txt', 'file_type': 'text/plain', 'file_size': 762, 'creation_date': '2024-08-05', 'last_modified_date': '2024-08-05'}, hash='851336e237a01926e2bb104f3b0cff1e8c4a9ff67f7c80f1d55bc240e48d9a37')}, text='Souvent, pour s’amuser, les hommes d’équipage\\nPrennent des albatros, vastes oiseaux des mers,\\nQui suivent, indolents compagnons de voyage,\\nLe navire glissant sur les gouffres amers.\\n\\nA peine les ont-ils déposés sur les planches,\\nQue ces rois de l’azur, maladroits et honteux,\\nLaissent piteusement leurs grandes ailes blanches\\nComme des avirons traîner à côté d’eux.\\n\\nCe voyageur ailé, comme il est gauche et veule !\\nLui, naguère si beau, qu’il est comique et laid !\\nL’un agace son bec avec un brûle-gueule,\\nL’autre mime, en boitant, l’infirme qui volait !\\n\\nLe Poète est semblable au prince des nuées\\nQui hante la tempête et se rit de l’archer ;\\nExilé sur le sol au milieu des huées,\\nSes ailes de géant l’empêchent de marcher.', mimetype='text/plain', start_char_idx=0, end_char_idx=725, text_template='{metadata_str}\\n\\n{content}', metadata_template='{key}: {value}', metadata_seperator='\\n'), score=0.44930240548534217), NodeWithScore(node=TextNode(id_='cf1c793c-ad6f-43b7-9a61-88c232a708dd', embedding=None, metadata={'file_path': '/home/tphung/projects/lawrag/data/demain.txt', 'file_name': 'demain.txt', 'file_type': 'text/plain', 'file_size': 653, 'creation_date': '2024-08-05', 'last_modified_date': '2024-08-05'}, excluded_embed_metadata_keys=['file_name', 'file_type', 'file_size', 'creation_date', 'last_modified_date', 'last_accessed_date'], excluded_llm_metadata_keys=['file_name', 'file_type', 'file_size', 'creation_date', 'last_modified_date', 'last_accessed_date'], relationships={<NodeRelationship.SOURCE: '1'>: RelatedNodeInfo(node_id='321260a1-a6b8-4166-91b2-7664efd51a79', node_type=<ObjectType.DOCUMENT: '4'>, metadata={'file_path': '/home/tphung/projects/lawrag/data/demain.txt', 'file_name': 'demain.txt', 'file_type': 'text/plain', 'file_size': 653, 'creation_date': '2024-08-05', 'last_modified_date': '2024-08-05'}, hash='2b847eb5e414ff6c1661666062e5f9bda103eac98836381eec2dcb7c0fae69ad')}, text='Demain, dès l’aube, à l’heure où blanchit la campagne,\\n    Je partirai. Vois-tu, je sais que tu m’attends.\\n    J’irai par la forêt, j’irai par la montagne.\\n    Je ne puis demeurer loin de toi plus longtemps.\\n\\n    Je marcherai les yeux fixés sur mes pensées,\\n    Sans rien voir au dehors, sans entendre aucun bruit,\\n    Seul, inconnu, le dos courbé, les mains croisées,\\n    Triste, et le jour pour moi sera comme la nuit.\\n\\n    Je ne regarderai ni l’or du soir qui tombe,\\n    Ni les voiles au loin descendant vers Harfleur,\\n    Et quand j’arriverai, je mettrai sur ta tombe\\n    Un bouquet de houx vert et de bruyère en fleur.', mimetype='text/plain', start_char_idx=6, end_char_idx=629, text_template='{metadata_str}\\n\\n{content}', metadata_template='{key}: {value}', metadata_seperator='\\n'), score=0.3538194072243398)], metadata={'e12f61eb-7210-4d9a-9b1d-6041fcf74e70': {'file_path': '/home/tphung/projects/lawrag/data/albatros.txt', 'file_name': 'albatros.txt', 'file_type': 'text/plain', 'file_size': 762, 'creation_date': '2024-08-05', 'last_modified_date': '2024-08-05'}, 'cf1c793c-ad6f-43b7-9a61-88c232a708dd': {'file_path': '/home/tphung/projects/lawrag/data/demain.txt', 'file_name': 'demain.txt', 'file_type': 'text/plain', 'file_size': 653, 'creation_date': '2024-08-05', 'last_modified_date': '2024-08-05'}})"
      ]
     },
     "execution_count": 104,
     "metadata": {},
     "output_type": "execute_result"
    }
   ],
   "source": [
    "response_new = persistent_engine.query(\"A qui semble le poete?\")\n",
    "response_new"
   ]
  }
 ],
 "metadata": {
  "kernelspec": {
   "display_name": "env",
   "language": "python",
   "name": "python3"
  },
  "language_info": {
   "codemirror_mode": {
    "name": "ipython",
    "version": 3
   },
   "file_extension": ".py",
   "mimetype": "text/x-python",
   "name": "python",
   "nbconvert_exporter": "python",
   "pygments_lexer": "ipython3",
   "version": "3.12.3"
  }
 },
 "nbformat": 4,
 "nbformat_minor": 2
}
