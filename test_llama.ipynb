{
 "cells": [
  {
   "cell_type": "code",
   "execution_count": 10,
   "metadata": {},
   "outputs": [
    {
     "name": "stderr",
     "output_type": "stream",
     "text": [
      "/home/tphung/projects/lawrag/env/lib/python3.12/site-packages/tqdm/auto.py:21: TqdmWarning: IProgress not found. Please update jupyter and ipywidgets. See https://ipywidgets.readthedocs.io/en/stable/user_install.html\n",
      "  from .autonotebook import tqdm as notebook_tqdm\n"
     ]
    },
    {
     "data": {
      "text/plain": [
       "True"
      ]
     },
     "execution_count": 10,
     "metadata": {},
     "output_type": "execute_result"
    }
   ],
   "source": [
    "from dotenv import load_dotenv\n",
    "from llama_index.llms.openrouter import OpenRouter\n",
    "from llama_index.core.llms import ChatMessage\n",
    "from os import getenv\n",
    "\n",
    "load_dotenv()"
   ]
  },
  {
   "cell_type": "code",
   "execution_count": 11,
   "metadata": {},
   "outputs": [],
   "source": [
    "llm = OpenRouter(\n",
    "    max_tokens=256,\n",
    "    context_window=4096,\n",
    "    model=\"cohere/command-r\"\n",
    ")"
   ]
  },
  {
   "cell_type": "code",
   "execution_count": 12,
   "metadata": {},
   "outputs": [
    {
     "name": "stdout",
     "output_type": "stream",
     "text": [
      "assistant: What do you call a factory that makes distinctly average products?\n",
      "\n",
      "*An adequate-ory!*\n"
     ]
    }
   ],
   "source": [
    "message = ChatMessage(role=\"user\", content=\"Tell me a joke\")\n",
    "resp = llm.chat([message])\n",
    "print(resp)"
   ]
  },
  {
   "cell_type": "code",
   "execution_count": 13,
   "metadata": {},
   "outputs": [],
   "source": [
    "from llama_index.core import VectorStoreIndex, SimpleDirectoryReader\n",
    "\n"
   ]
  },
  {
   "cell_type": "code",
   "execution_count": 14,
   "metadata": {},
   "outputs": [],
   "source": [
    "documents = SimpleDirectoryReader(\"poems_data\").load_data()"
   ]
  },
  {
   "cell_type": "markdown",
   "metadata": {},
   "source": [
    "# Trying out Cohere embeddings"
   ]
  },
  {
   "cell_type": "code",
   "execution_count": 15,
   "metadata": {},
   "outputs": [],
   "source": [
    "from llama_index.embeddings.cohere import CohereEmbedding\n",
    "\n",
    "embed_model = CohereEmbedding(\n",
    "    api_key=getenv(\"COHERE_API_KEY\"),\n",
    "    model_name=\"embed-multilingual-light-v3.0\",\n",
    "    input_type=\"search_query\",\n",
    ")"
   ]
  },
  {
   "cell_type": "code",
   "execution_count": 16,
   "metadata": {},
   "outputs": [],
   "source": [
    "from llama_index.llms.cohere import Cohere\n",
    "\n",
    "llm_original = Cohere(model=\"command-r\", api_key=getenv(\"COHERE_API_KEY\"))"
   ]
  },
  {
   "cell_type": "code",
   "execution_count": 17,
   "metadata": {},
   "outputs": [
    {
     "data": {
      "text/plain": [
       "ChatResponse(message=ChatMessage(role=<MessageRole.ASSISTANT: 'assistant'>, content='Une blague pour vous !\\n\\nDeux atomes hydrogenes se réunissent dans un bar. Le premier hydrogène dit à l\\'autre: \"j\\'ai perdu mon electron.\"\\n\\nL\\'autre demande: \"Vraiment? Comment ça s\\'est passé?\"\\n\\nLe premier répond: \"Je ne suis pas sûr, ça s\\'est passé tellement vite!\"\\n\\nEst-ce que cela vous a fait rire?', additional_kwargs={}), raw=ChatCompletion(id='gen-Rh4ZBrrpzaaDSE7El5mbHEujVQ0E', choices=[Choice(finish_reason='COMPLETE', index=0, logprobs=None, message=ChatCompletionMessage(content='Une blague pour vous !\\n\\nDeux atomes hydrogenes se réunissent dans un bar. Le premier hydrogène dit à l\\'autre: \"j\\'ai perdu mon electron.\"\\n\\nL\\'autre demande: \"Vraiment? Comment ça s\\'est passé?\"\\n\\nLe premier répond: \"Je ne suis pas sûr, ça s\\'est passé tellement vite!\"\\n\\nEst-ce que cela vous a fait rire?', role='assistant', function_call=None, tool_calls=None))], created=1722938026, model='cohere/command-r', object='chat.completion', service_tier=None, system_fingerprint=None, usage=CompletionUsage(completion_tokens=90, prompt_tokens=8, total_tokens=98)), delta=None, logprobs=None, additional_kwargs={})"
      ]
     },
     "execution_count": 17,
     "metadata": {},
     "output_type": "execute_result"
    }
   ],
   "source": [
    "llm.chat([ChatMessage(role=\"user\", content=\"Rancontrez-moi une blague\")])"
   ]
  },
  {
   "cell_type": "code",
   "execution_count": 18,
   "metadata": {},
   "outputs": [],
   "source": [
    "from llama_index.core import Settings\n",
    "\n",
    "Settings.llm=llm\n",
    "Settings.embed_model=embed_model"
   ]
  },
  {
   "cell_type": "code",
   "execution_count": null,
   "metadata": {},
   "outputs": [],
   "source": []
  },
  {
   "cell_type": "code",
   "execution_count": 19,
   "metadata": {},
   "outputs": [],
   "source": [
    "index = VectorStoreIndex.from_documents(\n",
    "    documents=documents,\n",
    ")"
   ]
  },
  {
   "cell_type": "code",
   "execution_count": 20,
   "metadata": {},
   "outputs": [],
   "source": [
    "from llama_index.postprocessor.cohere_rerank import CohereRerank\n",
    "\n",
    "cohere_rerank = CohereRerank()"
   ]
  },
  {
   "cell_type": "code",
   "execution_count": 21,
   "metadata": {},
   "outputs": [],
   "source": [
    "query_engine = index.as_query_engine(\n",
    "    postprocessors=[cohere_rerank],\n",
    ")"
   ]
  },
  {
   "cell_type": "code",
   "execution_count": 22,
   "metadata": {},
   "outputs": [],
   "source": [
    "response = query_engine.query(\"A qui semble le poete?\")"
   ]
  },
  {
   "cell_type": "code",
   "execution_count": 23,
   "metadata": {},
   "outputs": [
    {
     "data": {
      "text/plain": [
       "Response(response='Le Poète semble au prince des nuées.', source_nodes=[NodeWithScore(node=TextNode(id_='1ac37012-aaaf-479f-af51-b7e962afdcd6', embedding=None, metadata={'file_path': '/home/tphung/projects/lawrag/poems_data/albatros.txt', 'file_name': 'albatros.txt', 'file_type': 'text/plain', 'file_size': 762, 'creation_date': '2024-08-05', 'last_modified_date': '2024-08-05'}, excluded_embed_metadata_keys=['file_name', 'file_type', 'file_size', 'creation_date', 'last_modified_date', 'last_accessed_date'], excluded_llm_metadata_keys=['file_name', 'file_type', 'file_size', 'creation_date', 'last_modified_date', 'last_accessed_date'], relationships={<NodeRelationship.SOURCE: '1'>: RelatedNodeInfo(node_id='f7eda0f4-8215-4846-9f7a-013d728bdd03', node_type=<ObjectType.DOCUMENT: '4'>, metadata={'file_path': '/home/tphung/projects/lawrag/poems_data/albatros.txt', 'file_name': 'albatros.txt', 'file_type': 'text/plain', 'file_size': 762, 'creation_date': '2024-08-05', 'last_modified_date': '2024-08-05'}, hash='938f7cc7d0b5de8d0eceff44b87a56f420c5d42127ab943cdea16a9e9b17a375')}, text='Souvent, pour s’amuser, les hommes d’équipage\\nPrennent des albatros, vastes oiseaux des mers,\\nQui suivent, indolents compagnons de voyage,\\nLe navire glissant sur les gouffres amers.\\n\\nA peine les ont-ils déposés sur les planches,\\nQue ces rois de l’azur, maladroits et honteux,\\nLaissent piteusement leurs grandes ailes blanches\\nComme des avirons traîner à côté d’eux.\\n\\nCe voyageur ailé, comme il est gauche et veule !\\nLui, naguère si beau, qu’il est comique et laid !\\nL’un agace son bec avec un brûle-gueule,\\nL’autre mime, en boitant, l’infirme qui volait !\\n\\nLe Poète est semblable au prince des nuées\\nQui hante la tempête et se rit de l’archer ;\\nExilé sur le sol au milieu des huées,\\nSes ailes de géant l’empêchent de marcher.', mimetype='text/plain', start_char_idx=0, end_char_idx=725, text_template='{metadata_str}\\n\\n{content}', metadata_template='{key}: {value}', metadata_seperator='\\n'), score=0.4942333196604369), NodeWithScore(node=TextNode(id_='6f1e53a7-c1e7-4af1-a11d-8c24fb39741c', embedding=None, metadata={'file_path': '/home/tphung/projects/lawrag/poems_data/demain.txt', 'file_name': 'demain.txt', 'file_type': 'text/plain', 'file_size': 653, 'creation_date': '2024-08-05', 'last_modified_date': '2024-08-05'}, excluded_embed_metadata_keys=['file_name', 'file_type', 'file_size', 'creation_date', 'last_modified_date', 'last_accessed_date'], excluded_llm_metadata_keys=['file_name', 'file_type', 'file_size', 'creation_date', 'last_modified_date', 'last_accessed_date'], relationships={<NodeRelationship.SOURCE: '1'>: RelatedNodeInfo(node_id='4286622b-3e09-4ab8-bc71-2ad017979455', node_type=<ObjectType.DOCUMENT: '4'>, metadata={'file_path': '/home/tphung/projects/lawrag/poems_data/demain.txt', 'file_name': 'demain.txt', 'file_type': 'text/plain', 'file_size': 653, 'creation_date': '2024-08-05', 'last_modified_date': '2024-08-05'}, hash='d586c154e8fc7ea7fb20ecb0b4960057e1795ebac10dce5281fa0cf83facf7cc')}, text='Demain, dès l’aube, à l’heure où blanchit la campagne,\\n    Je partirai. Vois-tu, je sais que tu m’attends.\\n    J’irai par la forêt, j’irai par la montagne.\\n    Je ne puis demeurer loin de toi plus longtemps.\\n\\n    Je marcherai les yeux fixés sur mes pensées,\\n    Sans rien voir au dehors, sans entendre aucun bruit,\\n    Seul, inconnu, le dos courbé, les mains croisées,\\n    Triste, et le jour pour moi sera comme la nuit.\\n\\n    Je ne regarderai ni l’or du soir qui tombe,\\n    Ni les voiles au loin descendant vers Harfleur,\\n    Et quand j’arriverai, je mettrai sur ta tombe\\n    Un bouquet de houx vert et de bruyère en fleur.', mimetype='text/plain', start_char_idx=6, end_char_idx=629, text_template='{metadata_str}\\n\\n{content}', metadata_template='{key}: {value}', metadata_seperator='\\n'), score=0.4206907639062026)], metadata={'1ac37012-aaaf-479f-af51-b7e962afdcd6': {'file_path': '/home/tphung/projects/lawrag/poems_data/albatros.txt', 'file_name': 'albatros.txt', 'file_type': 'text/plain', 'file_size': 762, 'creation_date': '2024-08-05', 'last_modified_date': '2024-08-05'}, '6f1e53a7-c1e7-4af1-a11d-8c24fb39741c': {'file_path': '/home/tphung/projects/lawrag/poems_data/demain.txt', 'file_name': 'demain.txt', 'file_type': 'text/plain', 'file_size': 653, 'creation_date': '2024-08-05', 'last_modified_date': '2024-08-05'}})"
      ]
     },
     "execution_count": 23,
     "metadata": {},
     "output_type": "execute_result"
    }
   ],
   "source": [
    "response"
   ]
  },
  {
   "cell_type": "markdown",
   "metadata": {},
   "source": [
    "# example of Vectore storage persisting"
   ]
  },
  {
   "cell_type": "code",
   "execution_count": 24,
   "metadata": {},
   "outputs": [],
   "source": [
    "index.storage_context.persist(persist_dir=\"./poems_storage\") # save the index to ./storage directory"
   ]
  },
  {
   "cell_type": "code",
   "execution_count": 25,
   "metadata": {},
   "outputs": [],
   "source": [
    "from llama_index.core import load_index_from_storage, StorageContext\n",
    "from llama_index.core.storage.docstore import SimpleDocumentStore\n",
    "from llama_index.core.storage.index_store import SimpleIndexStore\n",
    "from llama_index.core.vector_stores import SimpleVectorStore\n",
    "\n",
    "storage_context = StorageContext.from_defaults(\n",
    "    persist_dir=\"poems_storage\"\n",
    "    # theese arguments do not work but they were in guide\n",
    "    # docstore=SimpleDocumentStore.from_persist_dir(persist_dir=\"storage\"),\n",
    "    # index_store=SimpleIndexStore.from_persist_dir(persist_dir=\"storage\"),\n",
    "\n",
    "    # vector_store=SimpleVectorStore.from_persist_dir(persist_dir=\"storage\"),\n",
    ")\n",
    "persistent_index = load_index_from_storage(storage_context=storage_context)"
   ]
  },
  {
   "cell_type": "code",
   "execution_count": 26,
   "metadata": {},
   "outputs": [],
   "source": [
    "persistent_engine = persistent_index.as_query_engine(\n",
    "    postprocessors=[cohere_rerank],\n",
    ")"
   ]
  },
  {
   "cell_type": "code",
   "execution_count": 27,
   "metadata": {},
   "outputs": [
    {
     "data": {
      "text/plain": [
       "Response(response='Le Poète semble au prince des nuées.', source_nodes=[NodeWithScore(node=TextNode(id_='1ac37012-aaaf-479f-af51-b7e962afdcd6', embedding=None, metadata={'file_path': '/home/tphung/projects/lawrag/poems_data/albatros.txt', 'file_name': 'albatros.txt', 'file_type': 'text/plain', 'file_size': 762, 'creation_date': '2024-08-05', 'last_modified_date': '2024-08-05'}, excluded_embed_metadata_keys=['file_name', 'file_type', 'file_size', 'creation_date', 'last_modified_date', 'last_accessed_date'], excluded_llm_metadata_keys=['file_name', 'file_type', 'file_size', 'creation_date', 'last_modified_date', 'last_accessed_date'], relationships={<NodeRelationship.SOURCE: '1'>: RelatedNodeInfo(node_id='f7eda0f4-8215-4846-9f7a-013d728bdd03', node_type=<ObjectType.DOCUMENT: '4'>, metadata={'file_path': '/home/tphung/projects/lawrag/poems_data/albatros.txt', 'file_name': 'albatros.txt', 'file_type': 'text/plain', 'file_size': 762, 'creation_date': '2024-08-05', 'last_modified_date': '2024-08-05'}, hash='938f7cc7d0b5de8d0eceff44b87a56f420c5d42127ab943cdea16a9e9b17a375')}, text='Souvent, pour s’amuser, les hommes d’équipage\\nPrennent des albatros, vastes oiseaux des mers,\\nQui suivent, indolents compagnons de voyage,\\nLe navire glissant sur les gouffres amers.\\n\\nA peine les ont-ils déposés sur les planches,\\nQue ces rois de l’azur, maladroits et honteux,\\nLaissent piteusement leurs grandes ailes blanches\\nComme des avirons traîner à côté d’eux.\\n\\nCe voyageur ailé, comme il est gauche et veule !\\nLui, naguère si beau, qu’il est comique et laid !\\nL’un agace son bec avec un brûle-gueule,\\nL’autre mime, en boitant, l’infirme qui volait !\\n\\nLe Poète est semblable au prince des nuées\\nQui hante la tempête et se rit de l’archer ;\\nExilé sur le sol au milieu des huées,\\nSes ailes de géant l’empêchent de marcher.', mimetype='text/plain', start_char_idx=0, end_char_idx=725, text_template='{metadata_str}\\n\\n{content}', metadata_template='{key}: {value}', metadata_seperator='\\n'), score=0.4942333196604369), NodeWithScore(node=TextNode(id_='6f1e53a7-c1e7-4af1-a11d-8c24fb39741c', embedding=None, metadata={'file_path': '/home/tphung/projects/lawrag/poems_data/demain.txt', 'file_name': 'demain.txt', 'file_type': 'text/plain', 'file_size': 653, 'creation_date': '2024-08-05', 'last_modified_date': '2024-08-05'}, excluded_embed_metadata_keys=['file_name', 'file_type', 'file_size', 'creation_date', 'last_modified_date', 'last_accessed_date'], excluded_llm_metadata_keys=['file_name', 'file_type', 'file_size', 'creation_date', 'last_modified_date', 'last_accessed_date'], relationships={<NodeRelationship.SOURCE: '1'>: RelatedNodeInfo(node_id='4286622b-3e09-4ab8-bc71-2ad017979455', node_type=<ObjectType.DOCUMENT: '4'>, metadata={'file_path': '/home/tphung/projects/lawrag/poems_data/demain.txt', 'file_name': 'demain.txt', 'file_type': 'text/plain', 'file_size': 653, 'creation_date': '2024-08-05', 'last_modified_date': '2024-08-05'}, hash='d586c154e8fc7ea7fb20ecb0b4960057e1795ebac10dce5281fa0cf83facf7cc')}, text='Demain, dès l’aube, à l’heure où blanchit la campagne,\\n    Je partirai. Vois-tu, je sais que tu m’attends.\\n    J’irai par la forêt, j’irai par la montagne.\\n    Je ne puis demeurer loin de toi plus longtemps.\\n\\n    Je marcherai les yeux fixés sur mes pensées,\\n    Sans rien voir au dehors, sans entendre aucun bruit,\\n    Seul, inconnu, le dos courbé, les mains croisées,\\n    Triste, et le jour pour moi sera comme la nuit.\\n\\n    Je ne regarderai ni l’or du soir qui tombe,\\n    Ni les voiles au loin descendant vers Harfleur,\\n    Et quand j’arriverai, je mettrai sur ta tombe\\n    Un bouquet de houx vert et de bruyère en fleur.', mimetype='text/plain', start_char_idx=6, end_char_idx=629, text_template='{metadata_str}\\n\\n{content}', metadata_template='{key}: {value}', metadata_seperator='\\n'), score=0.4206907639062026)], metadata={'1ac37012-aaaf-479f-af51-b7e962afdcd6': {'file_path': '/home/tphung/projects/lawrag/poems_data/albatros.txt', 'file_name': 'albatros.txt', 'file_type': 'text/plain', 'file_size': 762, 'creation_date': '2024-08-05', 'last_modified_date': '2024-08-05'}, '6f1e53a7-c1e7-4af1-a11d-8c24fb39741c': {'file_path': '/home/tphung/projects/lawrag/poems_data/demain.txt', 'file_name': 'demain.txt', 'file_type': 'text/plain', 'file_size': 653, 'creation_date': '2024-08-05', 'last_modified_date': '2024-08-05'}})"
      ]
     },
     "execution_count": 27,
     "metadata": {},
     "output_type": "execute_result"
    }
   ],
   "source": [
    "response_new = persistent_engine.query(\"A qui semble le poete?\")\n",
    "response_new"
   ]
  },
  {
   "cell_type": "markdown",
   "metadata": {},
   "source": [
    "# CSV file as data source"
   ]
  },
  {
   "cell_type": "code",
   "execution_count": 32,
   "metadata": {},
   "outputs": [],
   "source": [
    "from llama_index.readers.file import PandasCSVReader\n",
    "\n",
    "# CSVReader does not work properly, so i use PandasCSVReader\n",
    "reader = PandasCSVReader(concat_rows=False)\n",
    "travail_documents = reader.load_data(file = \"./code_data/extrait_travail.csv\")\n"
   ]
  },
  {
   "cell_type": "code",
   "execution_count": 33,
   "metadata": {},
   "outputs": [],
   "source": [
    "travail_index =VectorStoreIndex.from_documents(\n",
    "    documents=travail_documents,\n",
    ")"
   ]
  },
  {
   "cell_type": "code",
   "execution_count": 34,
   "metadata": {},
   "outputs": [],
   "source": [
    "travail_query_engine = travail_index.as_query_engine(\n",
    "    postprocessors=[cohere_rerank],\n",
    ")"
   ]
  },
  {
   "cell_type": "code",
   "execution_count": 35,
   "metadata": {},
   "outputs": [
    {
     "data": {
      "text/plain": [
       "Response(response=\"Le travail a pour objectif de présenter les orientations de la politique du gouvernement dans les domaines des relations individuelles et collectives du travail, de l'emploi et de la formation professionnelle.\", source_nodes=[NodeWithScore(node=TextNode(id_='a37dffe3-72dc-4299-845d-a0fff431eb03', embedding=None, metadata={}, excluded_embed_metadata_keys=[], excluded_llm_metadata_keys=[], relationships={<NodeRelationship.SOURCE: '1'>: RelatedNodeInfo(node_id='f278a54e-3f77-457c-b13b-7011aedf14d6', node_type=<ObjectType.DOCUMENT: '4'>, metadata={}, hash='6542d9b89b4e9959d6f2bbce42aee0388a635d1af2faeb8f4965d758737df357')}, text='LEGIARTI000017961625, LEGITEXT000006072050, L2, [\"Partie législative\", \"Chapitre préliminaire : Dialogue social.\"], <p>Le Gouvernement soumet les projets de textes législatifs et réglementaires élaborés dans le champ défini par l\\'article <a href=\\'/affichCodeArticle.do?cidTexte=LEGITEXT000006072050&idArticle=LEGIARTI000017961623&dateTexte=&categorieLien=cid\\' title=\\'Code du travail - art. L1 (V)\\'>L. 1</a>, au vu des résultats de la procédure de concertation et de négociation, à la Commission nationale de la négociation collective, de l\\'emploi et de la formation professionnelle dans les conditions prévues à l\\'article <a href=\\'/affichCodeArticle.do?cidTexte=LEGITEXT000006072050&idArticle=LEGIARTI000006901822&dateTexte=&categorieLien=cid\\'>L. 2271-1</a>.</p>, nan, 1610612735, VIGUEUR, nan, 1622505600000, 32472144000000, 2023-12-15, nan', mimetype='text/plain', start_char_idx=0, end_char_idx=841, text_template='{metadata_str}\\n\\n{content}', metadata_template='{key}: {value}', metadata_seperator='\\n'), score=0.4078430735916269), NodeWithScore(node=TextNode(id_='6148df08-975e-47e7-b451-6ddf6c5b4986', embedding=None, metadata={}, excluded_embed_metadata_keys=[], excluded_llm_metadata_keys=[], relationships={<NodeRelationship.SOURCE: '1'>: RelatedNodeInfo(node_id='13da5359-cece-4799-8088-ecec24ec7506', node_type=<ObjectType.DOCUMENT: '4'>, metadata={}, hash='e2faa1d51efede795de0d43933549f10bf2fd7408dc1f9a71f7d259a5a7ebb00')}, text='LEGIARTI000017961627, LEGITEXT000006072050, L3, [\"Partie législative\", \"Chapitre préliminaire : Dialogue social.\"], <p></p><p>Chaque année, les orientations de la politique du Gouvernement dans les domaines des relations individuelles et collectives du travail, de l\\'emploi et de la formation professionnelle, ainsi que le calendrier envisagé pour leur mise en oeuvre sont présentés pour l\\'année à venir devant la Commission nationale de la négociation collective, de l\\'emploi et de la formation professionnelle. Les organisations mentionnées à l\\'article <a href=\\'/affichCodeArticle.do?cidTexte=LEGITEXT000006072050&idArticle=LEGIARTI000017961623&dateTexte=&categorieLien=cid\\'>L. 1 </a>présentent, pour leur part, l\\'état d\\'avancement des négociations interprofessionnelles en cours ainsi que le calendrier de celles qu\\'elles entendent mener ou engager dans l\\'année à venir. Le compte rendu des débats est publié.</p><p>Chaque année, le Gouvernement remet au Parlement un rapport faisant état de toutes les procédures de concertation et de consultation mises en oeuvre pendant l\\'année écoulée en application des articles L. 1 et <a href=\\'/affichCodeArticle.do?cidTexte=LEGITEXT000006072050&idArticle=LEGIARTI000042654546&dateTexte=&categorieLien=id\\' title=\\'Code du travail - art. L2 (VD)\\'>L. 2</a>, des différents domaines dans lesquels ces procédures sont intervenues et des différentes phases de ces procédures.</p><p></p>, nan, 1879048191, VIGUEUR, nan, 1622505600000, 32472144000000, 2023-12-15, nan', mimetype='text/plain', start_char_idx=0, end_char_idx=1502, text_template='{metadata_str}\\n\\n{content}', metadata_template='{key}: {value}', metadata_seperator='\\n'), score=0.3632455258825736)], metadata={'a37dffe3-72dc-4299-845d-a0fff431eb03': {}, '6148df08-975e-47e7-b451-6ddf6c5b4986': {}})"
      ]
     },
     "execution_count": 35,
     "metadata": {},
     "output_type": "execute_result"
    }
   ],
   "source": [
    "travail_query_engine.query(\"Quel est le but du travail?\")"
   ]
  }
 ],
 "metadata": {
  "kernelspec": {
   "display_name": "env",
   "language": "python",
   "name": "python3"
  },
  "language_info": {
   "codemirror_mode": {
    "name": "ipython",
    "version": 3
   },
   "file_extension": ".py",
   "mimetype": "text/x-python",
   "name": "python",
   "nbconvert_exporter": "python",
   "pygments_lexer": "ipython3",
   "version": "3.12.3"
  }
 },
 "nbformat": 4,
 "nbformat_minor": 2
}
